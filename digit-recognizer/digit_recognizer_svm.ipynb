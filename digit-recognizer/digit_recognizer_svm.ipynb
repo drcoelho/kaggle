{
 "metadata": {
  "name": "",
  "signature": "sha256:b3a20781b764c5245f7791250e2e9fb46dbe66dbe54ab4c2ab3832b7acb294bc"
 },
 "nbformat": 3,
 "nbformat_minor": 0,
 "worksheets": [
  {
   "cells": [
    {
     "cell_type": "markdown",
     "metadata": {},
     "source": [
      "## Introduction\n",
      "\n",
      "For this tutorial we use **Support Vector Classification.**.\n",
      "\n",
      "First of all, we'd like to say this is not the best aproach to solve digit recognition problem. But we choose that because it is simple and very useful for beginner machine learner.\n",
      "\n",
      "Despite the fact that SVC is not the best way to solve this problem, we could get a good results. You can see details about SVC at [sklearn webpage](http://scikit-learn.org/stable/modules/generated/sklearn.svm.SVC.html).\n"
     ]
    },
    {
     "cell_type": "markdown",
     "metadata": {},
     "source": [
      "##### Python imports"
     ]
    },
    {
     "cell_type": "code",
     "collapsed": false,
     "input": [
      "import pandas as pd\n",
      "import matplotlib.pyplot as plt\n",
      "from sklearn.model_selection import train_test_split\n",
      "from sklearn import svm\n",
      "\n",
      "import warnings"
     ],
     "language": "python",
     "metadata": {},
     "outputs": [],
     "prompt_number": 1
    },
    {
     "cell_type": "markdown",
     "metadata": {},
     "source": [
      "##### Trick for plotting inline in Jupter Notebook"
     ]
    },
    {
     "cell_type": "code",
     "collapsed": false,
     "input": [
      "%matplotlib inline"
     ],
     "language": "python",
     "metadata": {},
     "outputs": [],
     "prompt_number": 2
    },
    {
     "cell_type": "markdown",
     "metadata": {},
     "source": [
      "##### Ignoring warnings"
     ]
    },
    {
     "cell_type": "code",
     "collapsed": false,
     "input": [
      "warnings.filterwarnings(\"ignore\")"
     ],
     "language": "python",
     "metadata": {},
     "outputs": [],
     "prompt_number": 3
    },
    {
     "cell_type": "markdown",
     "metadata": {},
     "source": [
      "##### Utilities methods"
     ]
    },
    {
     "cell_type": "code",
     "collapsed": false,
     "input": [
      "def show_some_sample_images(dataset, k=5):\n",
      "    '''\n",
      "        Shows k random image samples from dataset.\n",
      "        \n",
      "        In the train dataset, there are 728 columns that represent the image.\n",
      "        We need to reshape this 728 x 1 array to 28 x 28, in order to plot the image correctly.\n",
      "        You can see it at line: \"img.reshape((28, 28))\"\n",
      "        \n",
      "        :param dataset: Pandas DataFrame\n",
      "        :param k: Number of images to be shown\n",
      "    '''\n",
      "    sample = dataset.sample(n=k)\n",
      "    for index in range(k):\n",
      "        img = sample.iloc[index].as_matrix()\n",
      "        img = img.reshape((28, 28))\n",
      "        plt.figure(figsize = (20,2))\n",
      "        plt.grid(False)\n",
      "        plt.axis('off')\n",
      "        plt.xticks([])\n",
      "        plt.yticks([])\n",
      "        plt.imshow(img)\n",
      "        plt.show()"
     ],
     "language": "python",
     "metadata": {},
     "outputs": [],
     "prompt_number": 4
    },
    {
     "cell_type": "markdown",
     "metadata": {},
     "source": [
      "##### Loading the data"
     ]
    },
    {
     "cell_type": "code",
     "collapsed": false,
     "input": [
      "data = pd.read_csv('./data/train.csv')"
     ],
     "language": "python",
     "metadata": {},
     "outputs": [],
     "prompt_number": 5
    },
    {
     "cell_type": "code",
     "collapsed": false,
     "input": [
      "data.head()"
     ],
     "language": "python",
     "metadata": {},
     "outputs": [
      {
       "html": [
        "<div style=\"max-width:1500px;overflow:auto;\">\n",
        "<table border=\"1\" class=\"dataframe\">\n",
        "  <thead>\n",
        "    <tr style=\"text-align: right;\">\n",
        "      <th></th>\n",
        "      <th>label</th>\n",
        "      <th>pixel0</th>\n",
        "      <th>pixel1</th>\n",
        "      <th>pixel2</th>\n",
        "      <th>pixel3</th>\n",
        "      <th>pixel4</th>\n",
        "      <th>pixel5</th>\n",
        "      <th>pixel6</th>\n",
        "      <th>pixel7</th>\n",
        "      <th>pixel8</th>\n",
        "      <th>...</th>\n",
        "      <th>pixel774</th>\n",
        "      <th>pixel775</th>\n",
        "      <th>pixel776</th>\n",
        "      <th>pixel777</th>\n",
        "      <th>pixel778</th>\n",
        "      <th>pixel779</th>\n",
        "      <th>pixel780</th>\n",
        "      <th>pixel781</th>\n",
        "      <th>pixel782</th>\n",
        "      <th>pixel783</th>\n",
        "    </tr>\n",
        "  </thead>\n",
        "  <tbody>\n",
        "    <tr>\n",
        "      <th>0</th>\n",
        "      <td>1</td>\n",
        "      <td>0</td>\n",
        "      <td>0</td>\n",
        "      <td>0</td>\n",
        "      <td>0</td>\n",
        "      <td>0</td>\n",
        "      <td>0</td>\n",
        "      <td>0</td>\n",
        "      <td>0</td>\n",
        "      <td>0</td>\n",
        "      <td>...</td>\n",
        "      <td>0</td>\n",
        "      <td>0</td>\n",
        "      <td>0</td>\n",
        "      <td>0</td>\n",
        "      <td>0</td>\n",
        "      <td>0</td>\n",
        "      <td>0</td>\n",
        "      <td>0</td>\n",
        "      <td>0</td>\n",
        "      <td>0</td>\n",
        "    </tr>\n",
        "    <tr>\n",
        "      <th>1</th>\n",
        "      <td>0</td>\n",
        "      <td>0</td>\n",
        "      <td>0</td>\n",
        "      <td>0</td>\n",
        "      <td>0</td>\n",
        "      <td>0</td>\n",
        "      <td>0</td>\n",
        "      <td>0</td>\n",
        "      <td>0</td>\n",
        "      <td>0</td>\n",
        "      <td>...</td>\n",
        "      <td>0</td>\n",
        "      <td>0</td>\n",
        "      <td>0</td>\n",
        "      <td>0</td>\n",
        "      <td>0</td>\n",
        "      <td>0</td>\n",
        "      <td>0</td>\n",
        "      <td>0</td>\n",
        "      <td>0</td>\n",
        "      <td>0</td>\n",
        "    </tr>\n",
        "    <tr>\n",
        "      <th>2</th>\n",
        "      <td>1</td>\n",
        "      <td>0</td>\n",
        "      <td>0</td>\n",
        "      <td>0</td>\n",
        "      <td>0</td>\n",
        "      <td>0</td>\n",
        "      <td>0</td>\n",
        "      <td>0</td>\n",
        "      <td>0</td>\n",
        "      <td>0</td>\n",
        "      <td>...</td>\n",
        "      <td>0</td>\n",
        "      <td>0</td>\n",
        "      <td>0</td>\n",
        "      <td>0</td>\n",
        "      <td>0</td>\n",
        "      <td>0</td>\n",
        "      <td>0</td>\n",
        "      <td>0</td>\n",
        "      <td>0</td>\n",
        "      <td>0</td>\n",
        "    </tr>\n",
        "    <tr>\n",
        "      <th>3</th>\n",
        "      <td>4</td>\n",
        "      <td>0</td>\n",
        "      <td>0</td>\n",
        "      <td>0</td>\n",
        "      <td>0</td>\n",
        "      <td>0</td>\n",
        "      <td>0</td>\n",
        "      <td>0</td>\n",
        "      <td>0</td>\n",
        "      <td>0</td>\n",
        "      <td>...</td>\n",
        "      <td>0</td>\n",
        "      <td>0</td>\n",
        "      <td>0</td>\n",
        "      <td>0</td>\n",
        "      <td>0</td>\n",
        "      <td>0</td>\n",
        "      <td>0</td>\n",
        "      <td>0</td>\n",
        "      <td>0</td>\n",
        "      <td>0</td>\n",
        "    </tr>\n",
        "    <tr>\n",
        "      <th>4</th>\n",
        "      <td>0</td>\n",
        "      <td>0</td>\n",
        "      <td>0</td>\n",
        "      <td>0</td>\n",
        "      <td>0</td>\n",
        "      <td>0</td>\n",
        "      <td>0</td>\n",
        "      <td>0</td>\n",
        "      <td>0</td>\n",
        "      <td>0</td>\n",
        "      <td>...</td>\n",
        "      <td>0</td>\n",
        "      <td>0</td>\n",
        "      <td>0</td>\n",
        "      <td>0</td>\n",
        "      <td>0</td>\n",
        "      <td>0</td>\n",
        "      <td>0</td>\n",
        "      <td>0</td>\n",
        "      <td>0</td>\n",
        "      <td>0</td>\n",
        "    </tr>\n",
        "  </tbody>\n",
        "</table>\n",
        "<p>5 rows \u00d7 785 columns</p>\n",
        "</div>"
       ],
       "metadata": {},
       "output_type": "pyout",
       "prompt_number": 6,
       "text": [
        "   label  pixel0  pixel1  pixel2  pixel3  pixel4  pixel5  pixel6  pixel7  \\\n",
        "0      1       0       0       0       0       0       0       0       0   \n",
        "1      0       0       0       0       0       0       0       0       0   \n",
        "2      1       0       0       0       0       0       0       0       0   \n",
        "3      4       0       0       0       0       0       0       0       0   \n",
        "4      0       0       0       0       0       0       0       0       0   \n",
        "\n",
        "   pixel8    ...     pixel774  pixel775  pixel776  pixel777  pixel778  \\\n",
        "0       0    ...            0         0         0         0         0   \n",
        "1       0    ...            0         0         0         0         0   \n",
        "2       0    ...            0         0         0         0         0   \n",
        "3       0    ...            0         0         0         0         0   \n",
        "4       0    ...            0         0         0         0         0   \n",
        "\n",
        "   pixel779  pixel780  pixel781  pixel782  pixel783  \n",
        "0         0         0         0         0         0  \n",
        "1         0         0         0         0         0  \n",
        "2         0         0         0         0         0  \n",
        "3         0         0         0         0         0  \n",
        "4         0         0         0         0         0  \n",
        "\n",
        "[5 rows x 785 columns]"
       ]
      }
     ],
     "prompt_number": 6
    },
    {
     "cell_type": "markdown",
     "metadata": {},
     "source": [
      "##### Separating the dataset into images and labels\n",
      "\n",
      "As we can see label is the first column of csv and the others columns are the pixels of digit image.\n"
     ]
    },
    {
     "cell_type": "code",
     "collapsed": false,
     "input": [
      "labels = data.iloc[0:, :1]\n",
      "images = data.iloc[0:, 1:]"
     ],
     "language": "python",
     "metadata": {},
     "outputs": [],
     "prompt_number": 7
    },
    {
     "cell_type": "code",
     "collapsed": false,
     "input": [
      "print('%s labels' % len(labels))\n",
      "print('%s images' % len(images))"
     ],
     "language": "python",
     "metadata": {},
     "outputs": [
      {
       "output_type": "stream",
       "stream": "stdout",
       "text": [
        "42000 labels\n",
        "42000 images\n"
       ]
      }
     ],
     "prompt_number": 8
    },
    {
     "cell_type": "markdown",
     "metadata": {},
     "source": [
      "##### Showing some images from dataset"
     ]
    },
    {
     "cell_type": "code",
     "collapsed": false,
     "input": [
      "show_some_sample_images(images)"
     ],
     "language": "python",
     "metadata": {},
     "outputs": [
      {
       "metadata": {},
       "output_type": "display_data",
       "png": "[encoded data removed]",
       "text": [
        "<matplotlib.figure.Figure at 0x7f14e4ca6f10>"
       ]
      },
      {
       "metadata": {},
       "output_type": "display_data",
       "png": "[encoded data removed]",
       "text": [
        "<matplotlib.figure.Figure at 0x7f1522ddffd0>"
       ]
      },
      {
       "metadata": {},
       "output_type": "display_data",
       "png": "[encoded data removed]",
       "text": [
        "<matplotlib.figure.Figure at 0x7f14e5b31090>"
       ]
      },
      {
       "metadata": {},
       "output_type": "display_data",
       "png": "[encoded data removed]",
       "text": [
        "<matplotlib.figure.Figure at 0x7f14e5b26550>"
       ]
      },
      {
       "metadata": {},
       "output_type": "display_data",
       "png": "[encoded data removed]",
       "text": [
        "<matplotlib.figure.Figure at 0x7f14e5a43390>"
       ]
      }
     ],
     "prompt_number": 9
    },
    {
     "cell_type": "markdown",
     "metadata": {},
     "source": [
      "##### Splitting the data into testing and training data points"
     ]
    },
    {
     "cell_type": "code",
     "collapsed": false,
     "input": [
      "train_images, test_images, train_labels, test_labels = train_test_split(images, labels, train_size=0.8, random_state=0)"
     ],
     "language": "python",
     "metadata": {},
     "outputs": [],
     "prompt_number": 10
    },
    {
     "cell_type": "markdown",
     "metadata": {},
     "source": [
      "##### Using SVC with sklearn\n",
      "\n",
      "[sklearn](http://scikit-learn.org) is a very simple tool as you can see bellow.\n",
      "\n",
      "In the next cell we will just create a classifier and train with our training data points."
     ]
    },
    {
     "cell_type": "code",
     "collapsed": false,
     "input": [
      "clf = svm.SVC(kernel='linear')\n",
      "clf = clf.fit(train_images, train_labels.values.ravel())"
     ],
     "language": "python",
     "metadata": {},
     "outputs": []
    },
    {
     "cell_type": "markdown",
     "metadata": {},
     "source": [
      "##### Validating the classifier\n",
      "\n",
      "Now we use the testing data points to validate and get a score for our aproach. The score we got is not too bad for a SVC classifier!"
     ]
    },
    {
     "cell_type": "code",
     "collapsed": false,
     "input": [
      "clf.score(test_images, test_labels)"
     ],
     "language": "python",
     "metadata": {},
     "outputs": []
    },
    {
     "cell_type": "markdown",
     "metadata": {},
     "source": [
      "##### Submission\n",
      "\n",
      "For making competition submission we need to load and make predictions to unlabeled images from **test.csv**. "
     ]
    },
    {
     "cell_type": "code",
     "collapsed": false,
     "input": [
      "test_data=pd.read_csv('./data/test.csv')\n",
      "results=clf.predict(test_data)\n",
      "\n",
      "test_data['Label'] = pd.Series(results)\n",
      "test_data['ImageId'] = test_data.index +1\n",
      "sub = test_data[['ImageId','Label']]\n",
      "\n",
      "sub.to_csv('submission.csv', index=False)"
     ],
     "language": "python",
     "metadata": {},
     "outputs": []
    }
   ],
   "metadata": {}
  }
 ]
}